{
 "cells": [
  {
   "attachments": {},
   "cell_type": "markdown",
   "metadata": {},
   "source": [
    "### Вопросно-ответная модель"
   ]
  },
  {
   "cell_type": "code",
   "execution_count": 16,
   "metadata": {},
   "outputs": [],
   "source": [
    "import torch\n",
    "from datasets import Dataset\n",
    "from transformers import pipeline\n",
    "from transformers import TrainingArguments, Trainer\n",
    "from transformers import DataCollatorForTokenClassification\n",
    "from deeppavlov import build_model\n",
    "import json\n",
    "import random"
   ]
  },
  {
   "cell_type": "code",
   "execution_count": 3,
   "metadata": {},
   "outputs": [
    {
     "name": "stderr",
     "output_type": "stream",
     "text": [
      "Some weights of the model checkpoint at bert-base-cased were not used when initializing BertForQuestionAnswering: ['cls.predictions.bias', 'cls.predictions.transform.LayerNorm.bias', 'cls.predictions.transform.dense.weight', 'cls.seq_relationship.weight', 'cls.predictions.transform.dense.bias', 'cls.predictions.transform.LayerNorm.weight', 'cls.seq_relationship.bias', 'cls.predictions.decoder.weight']\n",
      "- This IS expected if you are initializing BertForQuestionAnswering from the checkpoint of a model trained on another task or with another architecture (e.g. initializing a BertForSequenceClassification model from a BertForPreTraining model).\n",
      "- This IS NOT expected if you are initializing BertForQuestionAnswering from the checkpoint of a model that you expect to be exactly identical (initializing a BertForSequenceClassification model from a BertForSequenceClassification model).\n",
      "Some weights of BertForQuestionAnswering were not initialized from the model checkpoint at bert-base-cased and are newly initialized: ['qa_outputs.bias', 'qa_outputs.weight']\n",
      "You should probably TRAIN this model on a down-stream task to be able to use it for predictions and inference.\n"
     ]
    }
   ],
   "source": [
    "model = build_model(config='squad_bert')\n",
    "qa_model = list(model)[3].model\n",
    "toker = list(model)[0].tokenizer\n",
    "collator = DataCollatorForTokenClassification(toker, pad_to_multiple_of=128)\n",
    "dev = 'cuda:0'"
   ]
  },
  {
   "attachments": {},
   "cell_type": "markdown",
   "metadata": {},
   "source": [
    "### Входные данные"
   ]
  },
  {
   "cell_type": "code",
   "execution_count": 5,
   "metadata": {},
   "outputs": [],
   "source": [
    "from dataset import DialogueDataset\n",
    "from dataset.multiwoz import load_multiwoz"
   ]
  },
  {
   "cell_type": "code",
   "execution_count": 6,
   "metadata": {},
   "outputs": [
    {
     "name": "stdout",
     "output_type": "stream",
     "text": [
      "Loading train part of MultiWOZ from multiwoz/data/MultiWOZ_2.2\n"
     ]
    },
    {
     "name": "stderr",
     "output_type": "stream",
     "text": [
      "100%|██████████████████████████████████████████████████████████████████████████████| 17/17 [00:07<00:00,  2.41it/s]\n"
     ]
    }
   ],
   "source": [
    "MULTIWOZ_PATH = (\n",
    "    \"multiwoz/data/MultiWOZ_2.2\"\n",
    ")\n",
    "\n",
    "\n",
    "train = DialogueDataset.from_miltiwoz_v22(\n",
    "    load_multiwoz('train', MULTIWOZ_PATH,\n",
    "    order=[\n",
    "    'dialogues_001.json', 'dialogues_011.json', 'dialogues_007.json', 'dialogues_010.json', \n",
    "    'dialogues_017.json', 'dialogues_005.json', 'dialogues_015.json', 'dialogues_012.json', \n",
    "    'dialogues_016.json', 'dialogues_013.json', 'dialogues_004.json', 'dialogues_009.json', \n",
    "    'dialogues_003.json', 'dialogues_006.json', 'dialogues_008.json', 'dialogues_002.json', \n",
    "    'dialogues_014.json'\n",
    "    ])\n",
    ")"
   ]
  },
  {
   "cell_type": "code",
   "execution_count": null,
   "metadata": {},
   "outputs": [],
   "source": [
    "train_set = {'kings lynn': ['i need a train on tuesday out of kings lynn', 'Looking for a train Tuesday leaving kings lynn after 9:30 to go to cambridge.'], \n",
    "             'cambridge': ['Please find me a train from cambridge to stansted airport', \"Hi, I'd like to book a train to stansted airport from cambridge. Can you help?\"]}\n",
    "slot_type = 'train-departure'"
   ]
  },
  {
   "cell_type": "code",
   "execution_count": 7,
   "metadata": {},
   "outputs": [],
   "source": [
    "# извлечение вопросов из датасета\n",
    "with open(f'{MULTIWOZ_PATH}/schema.json', 'r') as f:\n",
    "  schema = json.load(f)\n",
    "question_for_slot_type = {}\n",
    "for service in schema:\n",
    "  for slot in service['slots']:\n",
    "    question_for_slot_type[slot['name']] = f\"{slot['description'][0].upper()}{slot['description'][1:]}?\"\n"
   ]
  },
  {
   "cell_type": "code",
   "execution_count": 8,
   "metadata": {},
   "outputs": [],
   "source": [
    "# модифицированные вопросы\n",
    "m_question_for_slot_type = {'hotel-pricerange': 'What is price budget of the hotel?',\n",
    " 'hotel-type': 'What is the type of the hotel?',\n",
    " 'hotel-parking': 'Whether the hotel has parking?',\n",
    " 'hotel-bookday': 'What is day of the hotel booking?',\n",
    " 'hotel-bookpeople': 'For how many people to book the hotel?',\n",
    " 'hotel-bookstay': 'For how many days to stay at the hotel?',\n",
    " 'hotel-stars': 'What is star rating of the hotel?',\n",
    " 'hotel-internet': 'Whether the hotel has internet?',\n",
    " 'hotel-name': 'What is the name of the hotel?',\n",
    " 'hotel-area': 'Where is the hotel located?',\n",
    " 'hotel-address': 'What is the address of the hotel?',\n",
    " 'train-arriveby': 'What time does the train arrive?',\n",
    " 'train-departure': 'Where is departure location of the train?',\n",
    " 'train-day': 'What is the day of the train?',\n",
    " 'train-bookpeople': 'How many train tickets you need?',\n",
    " 'train-leaveat': 'What time does the train leave?',\n",
    " 'train-destination': 'What is the destination of the train?',\n",
    " 'attraction-area': 'What area to search for attractions?',\n",
    " 'attraction-name': 'What is the name of the attraction?',\n",
    " 'attraction-type': 'What is the type of the attraction?',\n",
    " 'restaurant-area': 'Where does the restaurant place?',\n",
    " 'restaurant-name': 'What is the name of the restaurant?',\n",
    " 'restaurant-bookday': 'What is the day of the restaurant booking?',\n",
    " 'restaurant-pricerange': 'What is the price budget for the restaurant?',\n",
    " 'restaurant-food': 'What the cuisine of the restaurant you are looking for?',\n",
    " 'restaurant-bookpeople': 'For how many people to reserve the restaurant?',\n",
    " 'restaurant-booktime': 'What is the time of the restaurant booking?',\n",
    " 'hospital-department': 'What is the type of medical care?',\n",
    " 'taxi-leaveat': 'What is the leaving time of taxi?',\n",
    " 'taxi-destination': 'What is the destination of taxi?',\n",
    " 'taxi-departure': 'Where is departure location of taxi?',\n",
    " 'taxi-arriveby': 'What is the arrival time of taxi?', \n",
    " 'bus-departure': 'What is the departure location of bus?',\n",
    " 'bus-destination': 'What is the destination of bus?'}"
   ]
  },
  {
   "cell_type": "code",
   "execution_count": 9,
   "metadata": {},
   "outputs": [],
   "source": [
    "# преобразование данных\n",
    "train_data = {'input_ids': [], 'start_positions': [], 'end_positions': []}\n",
    "keys_in_dataset = ['input_ids', 'token_type_ids', 'attention_mask', 'start_positions', 'end_positions']\n",
    "short_keys_in_dataset = ['input_ids', 'token_type_ids', 'attention_mask']\n",
    "def make_train_dataset(train_set, slot_types, modified_questions=False):\n",
    "  encoded_dict = {key: [] for key in keys_in_dataset}\n",
    "  for slot_value, slot_type in zip(train_set.keys(), slot_types):\n",
    "    for utt in train_set[slot_value]:\n",
    "      question = question_for_slot_type[slot_type]\n",
    "      encoded = toker(question, utt.lower())\n",
    "      encoded_question = toker(question)\n",
    "      encoded_context = toker(utt.lower())\n",
    "      encoded_slot = toker(slot_value.lower())['input_ids'][1:-1]\n",
    "      start_position = -1\n",
    "      end_position = -1\n",
    "      for i in range(len(encoded_slot)):\n",
    "        if encoded_slot[i] in encoded_context['input_ids']:\n",
    "          start_position = encoded_context['input_ids'].index(encoded_slot[i]) + len(encoded_question['input_ids']) - 1\n",
    "          break\n",
    "      for i in reversed(range(len(encoded_slot))):\n",
    "        if encoded_slot[i] in encoded_context['input_ids']:\n",
    "          end_position = encoded_context['input_ids'].index(encoded_slot[i]) + len(encoded_question['input_ids']) - 1\n",
    "          break\n",
    "      if start_position != -1 and end_position != -1:\n",
    "        for key in short_keys_in_dataset:\n",
    "          encoded_dict[key].append(encoded[key])\n",
    "        encoded_dict['start_positions'].append([start_position])\n",
    "        encoded_dict['end_positions'].append([end_position])\n",
    "\n",
    "  return Dataset.from_dict(encoded_dict)"
   ]
  },
  {
   "attachments": {},
   "cell_type": "markdown",
   "metadata": {},
   "source": [
    "### Разделение типов слотов"
   ]
  },
  {
   "cell_type": "code",
   "execution_count": 10,
   "metadata": {},
   "outputs": [],
   "source": [
    "from split_slot_types import get_splitted_slot_types\n",
    "from prepare_data import prepare_data"
   ]
  },
  {
   "cell_type": "code",
   "execution_count": 11,
   "metadata": {},
   "outputs": [
    {
     "name": "stderr",
     "output_type": "stream",
     "text": [
      "/cephfs/home/oreshina/workspace/split_slot_types.py:33: FutureWarning: arrays to stack must be passed as a \"sequence\" type such as list or tuple. Support for non-sequence iterables such as generators is deprecated as of NumPy 1.16 and will raise an error in the future.\n",
      "  all_types = np.unique(np.hstack(domains.values())).tolist()\n"
     ]
    }
   ],
   "source": [
    "train_types, dev_types, test_types = get_splitted_slot_types()"
   ]
  },
  {
   "cell_type": "code",
   "execution_count": 12,
   "metadata": {},
   "outputs": [],
   "source": [
    "train_data = prepare_data(train, train_types)\n",
    "dev_data = prepare_data(train, dev_types)"
   ]
  },
  {
   "cell_type": "code",
   "execution_count": 17,
   "metadata": {},
   "outputs": [
    {
     "data": {
      "text/plain": [
       "[{'utterance': \"I'm looking for a cheap hotel in the centre.\",\n",
       "  'slots': {'hotel-type': 'hotel'}},\n",
       " {'utterance': 'Yes. What can you tell me about cherry hinton hall and grounds? I am interested in visiting it. Do I need to book a tour?',\n",
       "  'slots': {'attraction-name': 'cherry hinton hall and grounds'}},\n",
       " {'utterance': '4 people. Starting Tuesday, 5 nights.',\n",
       "  'slots': {'hotel-bookstay': '5'}},\n",
       " {'utterance': 'book a table for 7 people at 12:15 on thursday and get me the reference number',\n",
       "  'slots': {'restaurant-bookday': 'thursday'}},\n",
       " {'utterance': \"I'm looking for attractions in town that are in the architecture category.\",\n",
       "  'slots': {'attraction-type': 'architecture'}},\n",
       " {'utterance': 'Yes, are there any 3 star guesthouses in the west that include free wifi?',\n",
       "  'slots': {'hotel-type': 'guesthouse'}},\n",
       " {'utterance': \"It doesn't matter. Please make a recommendation and book a table for 8 people at 11:30 on saturday.\",\n",
       "  'slots': {'restaurant-bookday': 'saturday'}},\n",
       " {'utterance': 'Ok. I would like the name of a specific boat attraction please.',\n",
       "  'slots': {'attraction-type': 'boat'}},\n",
       " {'utterance': \"I'd like to book for 1 person at 1145 on thursday please\",\n",
       "  'slots': {'restaurant-bookday': 'thursday'}},\n",
       " {'utterance': 'Would you be able to get it for 1 night and also get me a reference number',\n",
       "  'slots': {'hotel-bookstay': '1'}},\n",
       " {'utterance': \"I'm looking for a chinese restaurant.\",\n",
       "  'slots': {'restaurant-food': 'chinese'}},\n",
       " {'utterance': \"No, I'd like that zero star cheap guesthouse in the north.\",\n",
       "  'slots': {'hotel-type': 'guesthouse'}},\n",
       " {'utterance': 'I will also need a place to stay. A guesthouse and it should include free wifi .',\n",
       "  'slots': {'hotel-type': 'guesthouse'}},\n",
       " {'utterance': \"Sure, let's look for a 4 star hotel instead.\",\n",
       "  'slots': {'hotel-type': 'hotel'}},\n",
       " {'utterance': 'What museums are there in the north area of town?',\n",
       "  'slots': {'attraction-type': 'museum'}},\n",
       " {'utterance': 'I need a place to dine at in the south that serves chinese.',\n",
       "  'slots': {'restaurant-food': 'chinese'}},\n",
       " {'utterance': 'Im sorry. The area and price range do not matter. I need a 3 star guesthouse with free wifi please.',\n",
       "  'slots': {'hotel-type': 'guesthouse'}},\n",
       " {'utterance': 'I need to find a moderately priced vegetarian restaurant.',\n",
       "  'slots': {'restaurant-food': 'vegetarian'}},\n",
       " {'utterance': \"I'm looking for a place to stay in Cambridge, moderate price for a hotel.\",\n",
       "  'slots': {'hotel-type': 'hotel'}},\n",
       " {'utterance': 'Can we try for 4 nights please?',\n",
       "  'slots': {'hotel-bookstay': '4'}},\n",
       " {'utterance': 'I there a college instead?',\n",
       "  'slots': {'attraction-type': 'college'}},\n",
       " {'utterance': 'I would also like to visit an attraction. I would like to find a college in the centre.',\n",
       "  'slots': {'attraction-type': 'college'}},\n",
       " {'utterance': 'I appreciate your help. I am also interested in looking at a college while I am in Cambridge. Could you help me?',\n",
       "  'slots': {'attraction-type': 'college'}},\n",
       " {'utterance': \"Ok, let's try to find an asian oriental restaurant.\",\n",
       "  'slots': {'restaurant-food': 'asian oriental'}},\n",
       " {'utterance': 'I would like a restaurant in the centre of town that serves caribbean food',\n",
       "  'slots': {'restaurant-food': 'caribbean'}},\n",
       " {'utterance': \"I'm also looking for a really nice restaurant that serves modern european food. Can you help me with that?\",\n",
       "  'slots': {'restaurant-food': 'modern european'}},\n",
       " {'utterance': \"Perfect, thank you! I'm also looking for a guesthouse in the area, preferably in the North. Do you have an option that has free parking?\",\n",
       "  'slots': {'hotel-type': 'guesthouse'}},\n",
       " {'utterance': 'Can you make a reservation for Friday for 5 people, 3 nights please?',\n",
       "  'slots': {'hotel-bookstay': '3'}},\n",
       " {'utterance': 'I am trying to locate a really nice guesthouse to take my wife to. Can you suggest any?',\n",
       "  'slots': {'hotel-type': 'guesthouse'}},\n",
       " {'utterance': \"I'm looking for a 4 star guesthouse.\",\n",
       "  'slots': {'hotel-type': 'guesthouse'}},\n",
       " {'utterance': \"I'll be departing from peterborough.\",\n",
       "  'slots': {'train-departure': 'peterborough'}},\n",
       " {'utterance': 'A park in the north part of town',\n",
       "  'slots': {'attraction-type': 'park'}},\n",
       " {'utterance': 'I am looking for a place to dine in the moderate price range that serves indian food.',\n",
       "  'slots': {'restaurant-food': 'indian'}},\n",
       " {'utterance': 'I am looking for a train departing from london kings cross',\n",
       "  'slots': {'train-departure': 'london kings cross'}},\n",
       " {'utterance': 'I am looking for modern european food in the moderate price range. Any area is okay.',\n",
       "  'slots': {'restaurant-food': 'modern european'}},\n",
       " {'utterance': 'Thanks so much. I am also looking for a museum I could visit.',\n",
       "  'slots': {'attraction-type': 'museum'}},\n",
       " {'utterance': \"Yes, that works. I'd like to book for 4 people for 5 nights, starting on Saturday, please.\",\n",
       "  'slots': {'hotel-bookstay': '5'}},\n",
       " {'utterance': \"How about for 2 days? If it's available will you please book and provide a reference number?\",\n",
       "  'slots': {'hotel-bookstay': '2'}},\n",
       " {'utterance': \"I'm looking for a place in the centre of town that is a nightclub.\",\n",
       "  'slots': {'attraction-type': 'nightclub'}},\n",
       " {'utterance': 'If there is no such hotel, how about one that has a star of 4',\n",
       "  'slots': {'hotel-type': 'hotel'}},\n",
       " {'utterance': 'i want to leave by 10:45', 'slots': {'hotel-bookstay': '5'}},\n",
       " {'utterance': 'Yes please. We will be arriving on Sunday for 3 nights. There are 7 of us.',\n",
       "  'slots': {'hotel-bookstay': '3'}},\n",
       " {'utterance': 'Sure, can you book it for 1 night?',\n",
       "  'slots': {'hotel-bookstay': '1'}},\n",
       " {'utterance': 'I will be departing from broxbourne',\n",
       "  'slots': {'train-departure': 'broxbourne'}},\n",
       " {'utterance': 'Lets try a hotel instead.', 'slots': {'hotel-type': 'hotel'}},\n",
       " {'utterance': 'book it for 8 people and 2 nights starting from friday',\n",
       "  'slots': {'hotel-bookday': 'friday', 'hotel-bookstay': '2'}},\n",
       " {'utterance': \"Near the museum if possible. I'm looking for a guesthouse with free parking.\",\n",
       "  'slots': {'hotel-type': 'guesthouse', 'attraction-type': 'museum'}},\n",
       " {'utterance': 'What is the address of that museum?',\n",
       "  'slots': {'attraction-type': 'museum'}},\n",
       " {'utterance': 'What expensive hotel do you recommend?',\n",
       "  'slots': {'hotel-type': 'hotel'}},\n",
       " {'utterance': 'no, it should be a guesthouse though.',\n",
       "  'slots': {'hotel-type': 'guesthouse'}}]"
      ]
     },
     "execution_count": 17,
     "metadata": {},
     "output_type": "execute_result"
    }
   ],
   "source": [
    "train_data_small = random.SystemRandom().sample(train_data, 50)\n",
    "train_data_small"
   ]
  },
  {
   "cell_type": "markdown",
   "metadata": {},
   "source": [
    "### Предобучение на тренировочных типах"
   ]
  },
  {
   "cell_type": "code",
   "execution_count": 18,
   "metadata": {},
   "outputs": [],
   "source": [
    "pretrain_set = {} \n",
    "slot_types_for_pretrain_dataset = []\n",
    "for utt_slot in train_data_small:\n",
    "   utt = utt_slot['utterance']\n",
    "   for slot_type, slot_value in utt_slot['slots'].items():\n",
    "    if slot_value in pretrain_set.keys():\n",
    "        pretrain_set[slot_value].append(utt)\n",
    "    else:\n",
    "        pretrain_set[slot_value] = [utt]\n",
    "        slot_types_for_pretrain_dataset.append(slot_type)"
   ]
  },
  {
   "cell_type": "code",
   "execution_count": 19,
   "metadata": {},
   "outputs": [
    {
     "data": {
      "text/plain": [
       "{'hotel': [\"I'm looking for a cheap hotel in the centre.\",\n",
       "  \"Sure, let's look for a 4 star hotel instead.\",\n",
       "  \"I'm looking for a place to stay in Cambridge, moderate price for a hotel.\",\n",
       "  'If there is no such hotel, how about one that has a star of 4',\n",
       "  'Lets try a hotel instead.',\n",
       "  'What expensive hotel do you recommend?'],\n",
       " 'cherry hinton hall and grounds': ['Yes. What can you tell me about cherry hinton hall and grounds? I am interested in visiting it. Do I need to book a tour?'],\n",
       " '5': ['4 people. Starting Tuesday, 5 nights.',\n",
       "  \"Yes, that works. I'd like to book for 4 people for 5 nights, starting on Saturday, please.\",\n",
       "  'i want to leave by 10:45'],\n",
       " 'thursday': ['book a table for 7 people at 12:15 on thursday and get me the reference number',\n",
       "  \"I'd like to book for 1 person at 1145 on thursday please\"],\n",
       " 'architecture': [\"I'm looking for attractions in town that are in the architecture category.\"],\n",
       " 'guesthouse': ['Yes, are there any 3 star guesthouses in the west that include free wifi?',\n",
       "  \"No, I'd like that zero star cheap guesthouse in the north.\",\n",
       "  'I will also need a place to stay. A guesthouse and it should include free wifi .',\n",
       "  'Im sorry. The area and price range do not matter. I need a 3 star guesthouse with free wifi please.',\n",
       "  \"Perfect, thank you! I'm also looking for a guesthouse in the area, preferably in the North. Do you have an option that has free parking?\",\n",
       "  'I am trying to locate a really nice guesthouse to take my wife to. Can you suggest any?',\n",
       "  \"I'm looking for a 4 star guesthouse.\",\n",
       "  \"Near the museum if possible. I'm looking for a guesthouse with free parking.\",\n",
       "  'no, it should be a guesthouse though.'],\n",
       " 'saturday': [\"It doesn't matter. Please make a recommendation and book a table for 8 people at 11:30 on saturday.\"],\n",
       " 'boat': ['Ok. I would like the name of a specific boat attraction please.'],\n",
       " '1': ['Would you be able to get it for 1 night and also get me a reference number',\n",
       "  'Sure, can you book it for 1 night?'],\n",
       " 'chinese': [\"I'm looking for a chinese restaurant.\",\n",
       "  'I need a place to dine at in the south that serves chinese.'],\n",
       " 'museum': ['What museums are there in the north area of town?',\n",
       "  'Thanks so much. I am also looking for a museum I could visit.',\n",
       "  \"Near the museum if possible. I'm looking for a guesthouse with free parking.\",\n",
       "  'What is the address of that museum?'],\n",
       " 'vegetarian': ['I need to find a moderately priced vegetarian restaurant.'],\n",
       " '4': ['Can we try for 4 nights please?'],\n",
       " 'college': ['I there a college instead?',\n",
       "  'I would also like to visit an attraction. I would like to find a college in the centre.',\n",
       "  'I appreciate your help. I am also interested in looking at a college while I am in Cambridge. Could you help me?'],\n",
       " 'asian oriental': [\"Ok, let's try to find an asian oriental restaurant.\"],\n",
       " 'caribbean': ['I would like a restaurant in the centre of town that serves caribbean food'],\n",
       " 'modern european': [\"I'm also looking for a really nice restaurant that serves modern european food. Can you help me with that?\",\n",
       "  'I am looking for modern european food in the moderate price range. Any area is okay.'],\n",
       " '3': ['Can you make a reservation for Friday for 5 people, 3 nights please?',\n",
       "  'Yes please. We will be arriving on Sunday for 3 nights. There are 7 of us.'],\n",
       " 'peterborough': [\"I'll be departing from peterborough.\"],\n",
       " 'park': ['A park in the north part of town'],\n",
       " 'indian': ['I am looking for a place to dine in the moderate price range that serves indian food.'],\n",
       " 'london kings cross': ['I am looking for a train departing from london kings cross'],\n",
       " '2': [\"How about for 2 days? If it's available will you please book and provide a reference number?\",\n",
       "  'book it for 8 people and 2 nights starting from friday'],\n",
       " 'nightclub': [\"I'm looking for a place in the centre of town that is a nightclub.\"],\n",
       " 'broxbourne': ['I will be departing from broxbourne'],\n",
       " 'friday': ['book it for 8 people and 2 nights starting from friday']}"
      ]
     },
     "execution_count": 19,
     "metadata": {},
     "output_type": "execute_result"
    }
   ],
   "source": [
    "pretrain_set"
   ]
  },
  {
   "cell_type": "code",
   "execution_count": 20,
   "metadata": {},
   "outputs": [],
   "source": [
    "num_utterances = 0\n",
    "for utterances in pretrain_set.values():\n",
    "    num_utterances += len(utterances)"
   ]
  },
  {
   "cell_type": "code",
   "execution_count": 21,
   "metadata": {},
   "outputs": [
    {
     "data": {
      "text/plain": [
       "Dataset({\n",
       "    features: ['input_ids', 'token_type_ids', 'attention_mask', 'start_positions', 'end_positions'],\n",
       "    num_rows: 50\n",
       "})"
      ]
     },
     "execution_count": 21,
     "metadata": {},
     "output_type": "execute_result"
    }
   ],
   "source": [
    "pretrain_dataset = make_train_dataset(pretrain_set, [slot_type]*num_utterances)\n",
    "pretrain_dataset"
   ]
  },
  {
   "cell_type": "code",
   "execution_count": 22,
   "metadata": {},
   "outputs": [],
   "source": [
    "train_arguments = TrainingArguments(\n",
    "  output_dir=\"./models/results\",\n",
    "  overwrite_output_dir = True,\n",
    "  evaluation_strategy=\"epoch\",\n",
    "  learning_rate=1e-5,\n",
    "  weight_decay=0.01,\n",
    "  logging_steps=1,\n",
    "  num_train_epochs = 3,\n",
    "  remove_unused_columns = False\n",
    ")"
   ]
  },
  {
   "cell_type": "code",
   "execution_count": 23,
   "metadata": {},
   "outputs": [],
   "source": [
    "path_finetuned_model = './models/checkpoint'"
   ]
  },
  {
   "cell_type": "code",
   "execution_count": 24,
   "metadata": {},
   "outputs": [
    {
     "name": "stderr",
     "output_type": "stream",
     "text": [
      "/home/oreshina/miniconda3/envs/slotextraction/lib/python3.11/site-packages/transformers/optimization.py:407: FutureWarning: This implementation of AdamW is deprecated and will be removed in a future version. Use the PyTorch implementation torch.optim.AdamW instead, or set `no_deprecation_warning=True` to disable this warning\n",
      "  warnings.warn(\n",
      "You're using a BertTokenizerFast tokenizer. Please note that with a fast tokenizer, using the `__call__` method is faster than using a method to encode the text followed by a call to the `pad` method to get a padded encoding.\n"
     ]
    },
    {
     "data": {
      "text/html": [
       "\n",
       "    <div>\n",
       "      \n",
       "      <progress value='21' max='21' style='width:300px; height:20px; vertical-align: middle;'></progress>\n",
       "      [21/21 00:03, Epoch 3/3]\n",
       "    </div>\n",
       "    <table border=\"1\" class=\"dataframe\">\n",
       "  <thead>\n",
       " <tr style=\"text-align: left;\">\n",
       "      <th>Epoch</th>\n",
       "      <th>Training Loss</th>\n",
       "      <th>Validation Loss</th>\n",
       "    </tr>\n",
       "  </thead>\n",
       "  <tbody>\n",
       "    <tr>\n",
       "      <td>1</td>\n",
       "      <td>4.416300</td>\n",
       "      <td>4.110243</td>\n",
       "    </tr>\n",
       "    <tr>\n",
       "      <td>2</td>\n",
       "      <td>3.822600</td>\n",
       "      <td>3.446166</td>\n",
       "    </tr>\n",
       "    <tr>\n",
       "      <td>3</td>\n",
       "      <td>3.779800</td>\n",
       "      <td>3.159650</td>\n",
       "    </tr>\n",
       "  </tbody>\n",
       "</table><p>"
      ],
      "text/plain": [
       "<IPython.core.display.HTML object>"
      ]
     },
     "metadata": {},
     "output_type": "display_data"
    }
   ],
   "source": [
    "trainer = Trainer(model=qa_model,\n",
    "                            args=train_arguments,\n",
    "                            train_dataset=pretrain_dataset,\n",
    "                            eval_dataset=pretrain_dataset,\n",
    "                            data_collator=collator\n",
    "                            )\n",
    "\n",
    "trainer.train()\n",
    "\n",
    "qa_model.eval()\n",
    "qa_model.save_pretrained(path_finetuned_model)"
   ]
  },
  {
   "attachments": {},
   "cell_type": "markdown",
   "metadata": {},
   "source": [
    "### Дообучение"
   ]
  },
  {
   "cell_type": "code",
   "execution_count": 33,
   "metadata": {},
   "outputs": [],
   "source": [
    "test_slot_type = test_types[0]\n",
    "test_data = prepare_data(train, test_types)\n",
    "updated_test_data = []\n",
    "for utt_slot in test_data:\n",
    "    if test_slot_type in utt_slot['slots'].keys():\n",
    "        updated_test_data.append(utt_slot)\n",
    "test_data_small = random.SystemRandom().sample(updated_test_data, 10)"
   ]
  },
  {
   "cell_type": "code",
   "execution_count": 38,
   "metadata": {},
   "outputs": [],
   "source": [
    "sup_data, query_data = test_data_small[:5], test_data_small[5:]"
   ]
  },
  {
   "cell_type": "code",
   "execution_count": 41,
   "metadata": {},
   "outputs": [],
   "source": [
    "sup_set = {} \n",
    "slot_types_for_sup_dataset = []\n",
    "for utt_slot in sup_data:\n",
    "    utt = utt_slot['utterance']\n",
    "    for slot_type, slot_value in utt_slot['slots'].items():\n",
    "        if test_slot_type == slot_type:\n",
    "            if slot_value in sup_set.keys():\n",
    "                sup_set[slot_value].append(utt)\n",
    "            else:\n",
    "                sup_set[slot_value] = [utt]\n",
    "                slot_types_for_sup_dataset.append(slot_type)"
   ]
  },
  {
   "cell_type": "code",
   "execution_count": 52,
   "metadata": {},
   "outputs": [],
   "source": [
    "query_set = {} \n",
    "slot_types_for_sup_dataset = []\n",
    "for utt_slot in sup_data:\n",
    "    utt = utt_slot['utterance']\n",
    "    for slot_type, slot_value in utt_slot['slots'].items():\n",
    "        if test_slot_type == slot_type:\n",
    "            if slot_value in query_set.keys():\n",
    "                query_set[slot_value].append(utt)\n",
    "            else:\n",
    "                query_set[slot_value] = [utt]\n",
    "                slot_types_for_sup_dataset.append(slot_type)"
   ]
  },
  {
   "cell_type": "code",
   "execution_count": 49,
   "metadata": {},
   "outputs": [],
   "source": [
    "sup_dataset = make_train_dataset(sup_set, [test_slot_type]*5)"
   ]
  },
  {
   "cell_type": "code",
   "execution_count": 45,
   "metadata": {},
   "outputs": [],
   "source": [
    "train_arguments = TrainingArguments(\n",
    "  output_dir=\"./models/results\",\n",
    "  overwrite_output_dir = True,\n",
    "  evaluation_strategy=\"epoch\",\n",
    "  learning_rate=1e-5,\n",
    "  weight_decay=0.01,\n",
    "  logging_steps=1,\n",
    "  num_train_epochs = 6,\n",
    "  remove_unused_columns = False\n",
    ")"
   ]
  },
  {
   "cell_type": "code",
   "execution_count": 46,
   "metadata": {},
   "outputs": [],
   "source": [
    "path_finetuned_model = './models/checkpoint'"
   ]
  },
  {
   "cell_type": "code",
   "execution_count": 47,
   "metadata": {},
   "outputs": [
    {
     "data": {
      "text/plain": [
       "BertForQuestionAnswering(\n",
       "  (bert): BertModel(\n",
       "    (embeddings): BertEmbeddings(\n",
       "      (word_embeddings): Embedding(28996, 768, padding_idx=0)\n",
       "      (position_embeddings): Embedding(512, 768)\n",
       "      (token_type_embeddings): Embedding(2, 768)\n",
       "      (LayerNorm): LayerNorm((768,), eps=1e-12, elementwise_affine=True)\n",
       "      (dropout): Dropout(p=0.1, inplace=False)\n",
       "    )\n",
       "    (encoder): BertEncoder(\n",
       "      (layer): ModuleList(\n",
       "        (0-11): 12 x BertLayer(\n",
       "          (attention): BertAttention(\n",
       "            (self): BertSelfAttention(\n",
       "              (query): Linear(in_features=768, out_features=768, bias=True)\n",
       "              (key): Linear(in_features=768, out_features=768, bias=True)\n",
       "              (value): Linear(in_features=768, out_features=768, bias=True)\n",
       "              (dropout): Dropout(p=0.1, inplace=False)\n",
       "            )\n",
       "            (output): BertSelfOutput(\n",
       "              (dense): Linear(in_features=768, out_features=768, bias=True)\n",
       "              (LayerNorm): LayerNorm((768,), eps=1e-12, elementwise_affine=True)\n",
       "              (dropout): Dropout(p=0.1, inplace=False)\n",
       "            )\n",
       "          )\n",
       "          (intermediate): BertIntermediate(\n",
       "            (dense): Linear(in_features=768, out_features=3072, bias=True)\n",
       "            (intermediate_act_fn): GELUActivation()\n",
       "          )\n",
       "          (output): BertOutput(\n",
       "            (dense): Linear(in_features=3072, out_features=768, bias=True)\n",
       "            (LayerNorm): LayerNorm((768,), eps=1e-12, elementwise_affine=True)\n",
       "            (dropout): Dropout(p=0.1, inplace=False)\n",
       "          )\n",
       "        )\n",
       "      )\n",
       "    )\n",
       "  )\n",
       "  (qa_outputs): Linear(in_features=768, out_features=2, bias=True)\n",
       ")"
      ]
     },
     "execution_count": 47,
     "metadata": {},
     "output_type": "execute_result"
    }
   ],
   "source": [
    "qa_model.from_pretrained(path_finetuned_model)"
   ]
  },
  {
   "cell_type": "code",
   "execution_count": 58,
   "metadata": {},
   "outputs": [
    {
     "name": "stderr",
     "output_type": "stream",
     "text": [
      "/home/oreshina/miniconda3/envs/slotextraction/lib/python3.11/site-packages/transformers/optimization.py:407: FutureWarning: This implementation of AdamW is deprecated and will be removed in a future version. Use the PyTorch implementation torch.optim.AdamW instead, or set `no_deprecation_warning=True` to disable this warning\n",
      "  warnings.warn(\n"
     ]
    },
    {
     "data": {
      "text/html": [
       "\n",
       "    <div>\n",
       "      \n",
       "      <progress value='2' max='3' style='width:300px; height:20px; vertical-align: middle;'></progress>\n",
       "      [2/3 : < :, Epoch 1/3]\n",
       "    </div>\n",
       "    <table border=\"1\" class=\"dataframe\">\n",
       "  <thead>\n",
       " <tr style=\"text-align: left;\">\n",
       "      <th>Epoch</th>\n",
       "      <th>Training Loss</th>\n",
       "      <th>Validation Loss</th>\n",
       "    </tr>\n",
       "  </thead>\n",
       "  <tbody>\n",
       "  </tbody>\n",
       "</table><p>"
      ],
      "text/plain": [
       "<IPython.core.display.HTML object>"
      ]
     },
     "metadata": {},
     "output_type": "display_data"
    }
   ],
   "source": [
    "trainer = Trainer(model=qa_model,\n",
    "                            args=train_arguments,\n",
    "                            train_dataset=sup_dataset,\n",
    "                            eval_dataset=sup_dataset,\n",
    "                            data_collator=collator\n",
    "                            )\n",
    "\n",
    "trainer.train()\n",
    "\n",
    "qa_model.eval()\n",
    "qa_model.save_pretrained(path_finetuned_model)"
   ]
  },
  {
   "attachments": {},
   "cell_type": "markdown",
   "metadata": {},
   "source": [
    "### Тестирование"
   ]
  },
  {
   "cell_type": "code",
   "execution_count": 54,
   "metadata": {},
   "outputs": [],
   "source": [
    "query_set\n",
    "test_utterances = []\n",
    "gold_slot_values = []\n",
    "for slot, utts in query_set.items():\n",
    "    for utt in utts:\n",
    "      test_utterances.append(utt)\n",
    "      gold_slot_values.append(slot)"
   ]
  },
  {
   "cell_type": "code",
   "execution_count": 57,
   "metadata": {},
   "outputs": [
    {
     "data": {
      "text/plain": [
       "[\"I'd like something on the south side, please.\",\n",
       " 'I think maybe the north for this trip.',\n",
       " 'I am going to the centre and want to go somewhere fun.',\n",
       " 'I would also like to know about any attractions that is in the centre of town that is a theatre type.',\n",
       " 'Can you tell me what colleges are open to tourists on the west side of town?']"
      ]
     },
     "execution_count": 57,
     "metadata": {},
     "output_type": "execute_result"
    }
   ],
   "source": [
    "test_utterances"
   ]
  },
  {
   "cell_type": "code",
   "execution_count": 59,
   "metadata": {},
   "outputs": [],
   "source": [
    "pipe = pipeline('question-answering', model=qa_model.to(dev), tokenizer=toker, device=0)\n",
    "res = pipe({'question': len(test_utterances) * [question_for_slot_type[test_slot_type]], 'context': test_utterances})"
   ]
  },
  {
   "cell_type": "code",
   "execution_count": 60,
   "metadata": {},
   "outputs": [
    {
     "data": {
      "text/plain": [
       "[{'score': 0.022393349558115005, 'start': 26, 'end': 31, 'answer': 'south'},\n",
       " {'score': 0.027888767421245575, 'start': 18, 'end': 23, 'answer': 'north'},\n",
       " {'score': 0.016384506598114967, 'start': 18, 'end': 24, 'answer': 'centre'},\n",
       " {'score': 0.006965253036469221,\n",
       "  'start': 63,\n",
       "  'end': 95,\n",
       "  'answer': 'centre of town that is a theatre'},\n",
       " {'score': 0.013118656352162361, 'start': 58, 'end': 62, 'answer': 'west'}]"
      ]
     },
     "execution_count": 60,
     "metadata": {},
     "output_type": "execute_result"
    }
   ],
   "source": [
    "res"
   ]
  },
  {
   "attachments": {},
   "cell_type": "markdown",
   "metadata": {},
   "source": [
    "### Подсчет метрик"
   ]
  },
  {
   "cell_type": "code",
   "execution_count": 61,
   "metadata": {},
   "outputs": [],
   "source": [
    "from deeppavlov.metrics import accuracy"
   ]
  },
  {
   "cell_type": "code",
   "execution_count": 62,
   "metadata": {},
   "outputs": [],
   "source": [
    "conf_levels = [0.8, 0.9, 0.95, 0.99]"
   ]
  },
  {
   "cell_type": "code",
   "execution_count": 63,
   "metadata": {},
   "outputs": [],
   "source": [
    "def get_metrics(gold_slot_values, res, conf_level=0.0):\n",
    "    updated_predicted_slot_values, updated_gold_slot_values = [], []\n",
    "    for (answer, gold_slot_value) in zip(res, gold_slot_values):\n",
    "        if answer['score'] >= conf_level:\n",
    "            updated_predicted_slot_values.append(answer['answer'])\n",
    "            updated_gold_slot_values.append(gold_slot_value)\n",
    "    acc = accuracy.sets_accuracy(updated_gold_slot_values, updated_predicted_slot_values)\n",
    "    tp = acc * len(updated_predicted_slot_values)\n",
    "    fp = len(updated_predicted_slot_values) - tp\n",
    "    fn = len(gold_slot_values) - tp\n",
    "    f1 = tp/(tp + 1/2 * (fn + fp))\n",
    "    return acc, f1"
   ]
  },
  {
   "cell_type": "code",
   "execution_count": 64,
   "metadata": {},
   "outputs": [
    {
     "data": {
      "text/plain": [
       "(0.8, 0.8)"
      ]
     },
     "execution_count": 64,
     "metadata": {},
     "output_type": "execute_result"
    }
   ],
   "source": [
    "acc, f1 = get_metrics(gold_slot_values, res)\n",
    "acc, f1"
   ]
  },
  {
   "cell_type": "code",
   "execution_count": 65,
   "metadata": {},
   "outputs": [
    {
     "data": {
      "text/plain": [
       "(0, 0.0)"
      ]
     },
     "execution_count": 65,
     "metadata": {},
     "output_type": "execute_result"
    }
   ],
   "source": [
    "acc, f1 = get_metrics(gold_slot_values, res, 0.5)\n",
    "acc, f1"
   ]
  }
 ],
 "metadata": {
  "kernelspec": {
   "display_name": "Python 3 (ipykernel)",
   "language": "python",
   "name": "python3"
  },
  "language_info": {
   "codemirror_mode": {
    "name": "ipython",
    "version": 3
   },
   "file_extension": ".py",
   "mimetype": "text/x-python",
   "name": "python",
   "nbconvert_exporter": "python",
   "pygments_lexer": "ipython3",
   "version": "3.11.3"
  },
  "orig_nbformat": 4
 },
 "nbformat": 4,
 "nbformat_minor": 2
}
